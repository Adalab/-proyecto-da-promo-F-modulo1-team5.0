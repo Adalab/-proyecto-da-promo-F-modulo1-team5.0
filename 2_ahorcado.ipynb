{
 "cells": [
  {
   "cell_type": "code",
   "execution_count": 2,
   "metadata": {},
   "outputs": [],
   "source": [
    "IMAGENES_AHORCADO = ['''\n",
    "\n",
    "   +---+\n",
    "   |   |\n",
    "       |\n",
    "       |\n",
    "       |\n",
    "       |\n",
    "=========''', '''\n",
    "\n",
    "   +---+\n",
    "   |   |\n",
    "   O   |\n",
    "       |\n",
    "       |\n",
    "       |\n",
    "=========''', '''\n",
    "\n",
    "\n",
    "   +---+\n",
    "   |   |\n",
    "   O   |\n",
    "   |   |\n",
    "       |\n",
    "       |\n",
    "=========''', '''\n",
    "\n",
    "\n",
    "   +---+\n",
    "   |   |\n",
    "   O   |\n",
    "  /|   |\n",
    "       |\n",
    "       |\n",
    "=========''', '''\n",
    "\n",
    "\n",
    "   +---+\n",
    "   |   |\n",
    "   O   |\n",
    "  /|\\  |\n",
    "       |\n",
    "       |\n",
    "=========''', '''\n",
    "\n",
    "\n",
    "   +---+\n",
    "   |   |\n",
    "   O   |\n",
    "  /|\\  |\n",
    "  /    |\n",
    "       |\n",
    "=========''', '''\n",
    "\n",
    "\n",
    "   +---+\n",
    "   |   |\n",
    "   O   |\n",
    "  /|\\  |\n",
    "  / \\  |\n",
    "       |\n",
    "=========''']"
   ]
  },
  {
   "cell_type": "code",
   "execution_count": 11,
   "metadata": {},
   "outputs": [
    {
     "name": "stdout",
     "output_type": "stream",
     "text": [
      "\n",
      "\n",
      "\n",
      "   +---+\n",
      "   |   |\n",
      "   O   |\n",
      "  /|\\  |\n",
      "  / \\  |\n",
      "       |\n",
      "=========\n"
     ]
    }
   ],
   "source": [
    "print(IMAGENES_AHORCADO[2])"
   ]
  }
 ],
 "metadata": {
  "kernelspec": {
   "display_name": "base",
   "language": "python",
   "name": "python3"
  },
  "language_info": {
   "codemirror_mode": {
    "name": "ipython",
    "version": 3
   },
   "file_extension": ".py",
   "mimetype": "text/x-python",
   "name": "python",
   "nbconvert_exporter": "python",
   "pygments_lexer": "ipython3",
   "version": "3.11.5"
  },
  "orig_nbformat": 4
 },
 "nbformat": 4,
 "nbformat_minor": 2
}
