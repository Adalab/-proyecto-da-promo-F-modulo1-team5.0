{
 "cells": [
  {
   "cell_type": "code",
   "execution_count": 20,
   "metadata": {},
   "outputs": [
    {
     "name": "stdout",
     "output_type": "stream",
     "text": [
      "['t', 'e', 'l', 'e', 'f', 'o', 'n', 'o']\n",
      "tiene la letra e, y la tiene 2 veces\n"
     ]
    },
    {
     "ename": "TypeError",
     "evalue": "must be str, not int",
     "output_type": "error",
     "traceback": [
      "\u001b[0;31m---------------------------------------------------------------------------\u001b[0m",
      "\u001b[0;31mTypeError\u001b[0m                                 Traceback (most recent call last)",
      "\u001b[0;32m/var/folders/vc/6zzvx8k5237dtyhf94hsl1580000gp/T/ipykernel_15479/949302700.py\u001b[0m in \u001b[0;36m<module>\u001b[0;34m\u001b[0m\n\u001b[1;32m     23\u001b[0m                 \u001b[0;31m#print('estoy dentro del for',letter)\u001b[0m\u001b[0;34m\u001b[0m\u001b[0;34m\u001b[0m\u001b[0m\n\u001b[1;32m     24\u001b[0m                 \u001b[0;31m#letra_indice= palabra_oculta.index(letra_escogida)\u001b[0m\u001b[0;34m\u001b[0m\u001b[0;34m\u001b[0m\u001b[0m\n\u001b[0;32m---> 25\u001b[0;31m                 \u001b[0mletra_indice\u001b[0m\u001b[0;34m=\u001b[0m \u001b[0mpalabra_oculta\u001b[0m\u001b[0;34m.\u001b[0m\u001b[0mindex\u001b[0m\u001b[0;34m(\u001b[0m\u001b[0mletter\u001b[0m\u001b[0;34m)\u001b[0m\u001b[0;34m\u001b[0m\u001b[0;34m\u001b[0m\u001b[0m\n\u001b[0m\u001b[1;32m     26\u001b[0m                 \u001b[0mprint\u001b[0m \u001b[0;34m(\u001b[0m\u001b[0;34m'la letra indice es'\u001b[0m\u001b[0;34m,\u001b[0m\u001b[0mletra_indice\u001b[0m\u001b[0;34m)\u001b[0m\u001b[0;34m\u001b[0m\u001b[0;34m\u001b[0m\u001b[0m\n\u001b[1;32m     27\u001b[0m                 \u001b[0mpalabra_usuario\u001b[0m\u001b[0;34m[\u001b[0m\u001b[0mletra_indice\u001b[0m\u001b[0;34m]\u001b[0m \u001b[0;34m=\u001b[0m \u001b[0mletra_escogida\u001b[0m\u001b[0;34m\u001b[0m\u001b[0;34m\u001b[0m\u001b[0m\n",
      "\u001b[0;31mTypeError\u001b[0m: must be str, not int"
     ]
    }
   ],
   "source": [
    "lista_palabras = [ \"python\", \"cuadro\", \"beso\", \"mesa\", \"murcielago\"]\n",
    "import random\n",
    "palabra_oculta = random.choice(lista_palabras)\n",
    "palabra_oculta_lista = list(palabra_oculta)\n",
    "palabra_usuario = palabra_oculta_lista.copy()\n",
    "print(palabra_oculta_lista)\n",
    "vidas = 7\n",
    "letra_escogida = input('Ecriba una letra').lower()\n",
    "acierto =False\n",
    "\n",
    "for letra in range(len(palabra_usuario)):\n",
    "    palabra_usuario[letra] = '*'\n",
    "\n",
    "# empezar el while \n",
    "while vidas > 0 and palabra_oculta_lista!= palabra_usuario:\n",
    "    #letra_escogida = input('Ecriba una letra').lower()\n",
    "    if letra_escogida in palabra_oculta:\n",
    "\n",
    "        if palabra_oculta.count(letra_escogida)>0:\n",
    "            print(f'tiene la letra {letra_escogida}, y la tiene {palabra_oculta.count(letra_escogida)} veces')\n",
    "            \n",
    "            for letter in range(len(palabra_oculta)):\n",
    "                \n",
    "                letra_indice= palabra_oculta.index(letra_escogida)\n",
    "                print ('la letra indice es',letra_indice)\n",
    "                palabra_usuario[letra_indice] = letra_escogida\n",
    "                print(palabra_usuario)\n",
    "            \n",
    "\n",
    "    else:\n",
    "            print('dibujamos el machango')\n",
    "        \n",
    "\n",
    "\n",
    "\n",
    "\n"
   ]
  },
  {
   "cell_type": "markdown",
   "metadata": {},
   "source": []
  }
 ],
 "metadata": {
  "kernelspec": {
   "display_name": "base",
   "language": "python",
   "name": "python3"
  },
  "language_info": {
   "codemirror_mode": {
    "name": "ipython",
    "version": 3
   },
   "file_extension": ".py",
   "mimetype": "text/x-python",
   "name": "python",
   "nbconvert_exporter": "python",
   "pygments_lexer": "ipython3",
   "version": "3.9.7"
  }
 },
 "nbformat": 4,
 "nbformat_minor": 2
}
