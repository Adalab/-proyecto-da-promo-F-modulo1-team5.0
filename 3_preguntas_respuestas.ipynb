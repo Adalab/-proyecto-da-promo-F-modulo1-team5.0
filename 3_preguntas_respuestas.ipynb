{
 "cells": [
  {
   "cell_type": "markdown",
   "metadata": {},
   "source": [
    " Condiciones del juego: \n",
    "\n",
    " - Reglas del Juego de \"Preguntas y Respuestas de Geografía\":\n",
    " - El juego consiste en hacer preguntas de geografía y que el jugador adivine la respuesta correcta.\n",
    " - Cada pregunta tiene una respuesta única y correcta.\n",
    " - El jugador tiene un número limitado de intentos para responder correctamente a cada pregunta.\n",
    " - El juego sigue hasta que el jugador responda incorrectamente 3 de veces o haya respondido 5 preguntas correctamente."
   ]
  },
  {
   "cell_type": "code",
   "execution_count": 3,
   "metadata": {},
   "outputs": [
    {
     "name": "stdout",
     "output_type": "stream",
     "text": [
      "Esta es la respuesta usuaio yoyo\n",
      "Esta es la respuesta correcta Roma\n",
      "Respuesta incorrecta, pierdes una vida, te quedan 2 vidas\n",
      "Esta es la respuesta usuaio yoy\n",
      "Esta es la respuesta correcta Varsovia\n",
      "Respuesta incorrecta, pierdes una vida, te quedan 1 vidas\n",
      "Esta es la respuesta usuaio yoyo\n",
      "Esta es la respuesta correcta Dublin\n",
      "Respuesta incorrecta, pierdes una vida, te quedan 0 vidas\n",
      "Te has quedado sin puntos, ¡hasta luego Lucas!\n"
     ]
    }
   ],
   "source": [
    "\n",
    "# variable punto = 0 (aqui se va sumando, hasta 5)\n",
    "# variable de vida = 3 (aqui se va restando hasta 0)\n",
    "\n",
    "import random \n",
    "dict_europe = {\"España\" : \"madrid\", \n",
    "               \"Francia\" : \"paris\", \n",
    "               \"Alemania\" : \"berlin\", \n",
    "               \"Italia\": \"roma\",\n",
    "               \"Noruega\" : \"oslo\", \n",
    "               \"Polonia\" : \"varsovia\", \n",
    "               \"Hungria\" : \"budapest\", \n",
    "               \"Irlanda\":\"dublin\", \n",
    "               \"Austria\": \"viena\", \n",
    "               \"Republica Checa\" : \"praga\"}\n",
    "\n",
    "\n",
    "#BUSCAMOS EL VALOR DE CADA PAÍS EN FUNCIÓN DE LO QUE HA SALIDO EN EL ENUNCIADO \n",
    "\n",
    "\n",
    "#INICIALIZO LAS VARIABLES DE JUEGO \n",
    "var_puntos = 0\n",
    "var_vidas = 3\n",
    "\n",
    "# limite de while es: \n",
    "\n",
    "while var_puntos < 5 and var_vidas > 0: \n",
    "\n",
    "    \n",
    "    pais = list(dict_europe.keys())\n",
    "    capital = list(dict_europe.values())\n",
    "   \n",
    "    capital_enunciado = random.choice(pais)\n",
    "    respuesta_usuario = input(f\"Cual es la capital de {capital_enunciado}?\").lower()\n",
    "   \n",
    "    print(f\"Esta es la respuesta usuario {respuesta_usuario}\")\n",
    "    respuesta_correcta = dict_europe.get(capital_enunciado)\n",
    " \n",
    "    print(f\"Esta es la respuesta correcta {respuesta_correcta.title()}\")\n",
    "\n",
    "    if respuesta_correcta == respuesta_usuario:\n",
    "        var_puntos += 1\n",
    "        dict_europe.pop(capital_enunciado)\n",
    "        print(f\"Muy bien lo has petado, has sumado un punto, llevas {var_puntos} puntos\")\n",
    "        \n",
    "        print(dict_europe)\n",
    "        \n",
    "    else: \n",
    "        var_vidas -= 1 \n",
    "        print(f\"Respuesta incorrecta, pierdes una vida, te quedan {var_vidas} vidas\")\n",
    "       \n",
    "else: \n",
    "    if var_vidas == 0:\n",
    "        print(\"Te has quedado sin puntos, ¡hasta luego Lucas!\")  \n",
    "    else:\n",
    "        print(\"¡Eres una máquina!\")\n",
    "\n",
    "\n",
    "\n",
    "  \n",
    "  \n",
    "\n",
    "\n"
   ]
  },
  {
   "cell_type": "code",
   "execution_count": null,
   "metadata": {},
   "outputs": [],
   "source": [
    "import random \n",
    "\n",
    "lista_strng = [\"hola\", \"adios\"]\n",
    "\n",
    "print(random.choice(lista_strng))\n"
   ]
  }
 ],
 "metadata": {
  "kernelspec": {
   "display_name": "base",
   "language": "python",
   "name": "python3"
  },
  "language_info": {
   "codemirror_mode": {
    "name": "ipython",
    "version": 3
   },
   "file_extension": ".py",
   "mimetype": "text/x-python",
   "name": "python",
   "nbconvert_exporter": "python",
   "pygments_lexer": "ipython3",
   "version": "3.11.5"
  },
  "orig_nbformat": 4
 },
 "nbformat": 4,
 "nbformat_minor": 2
}
