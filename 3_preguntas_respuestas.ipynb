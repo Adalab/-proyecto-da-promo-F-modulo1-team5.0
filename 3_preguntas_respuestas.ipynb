{
 "cells": [
  {
   "cell_type": "markdown",
   "metadata": {},
   "source": [
    "# PREGUNTAS Y RESPUESTAS\n"
   ]
  },
  {
   "cell_type": "markdown",
   "metadata": {},
   "source": [
    " Condiciones del juego: \n",
    "\n",
    " - El juego consiste en hacer preguntas de geografía y que el jugador adivine la respuesta correcta.\n",
    " - Cada pregunta tiene una respuesta única y correcta.\n",
    " - El jugador tiene un número limitado de intentos para responder correctamente a cada pregunta.\n",
    " - El juego sigue hasta que el jugador responda incorrectamente 3 de veces o haya respondido 5 preguntas correctamente."
   ]
  },
  {
   "cell_type": "code",
   "execution_count": null,
   "metadata": {},
   "outputs": [],
   "source": [
    "# Empezamos el juego preguntando el nombre del jugador \n",
    "player = input ( \"¿Cómo te llamas?\" )\n",
    "\n",
    "# Introducimos el juego\n",
    "\n",
    "game = input( f\"Hola, {player}. Juguemos a Preguntas y Respuestas.\")\n",
    "\n",
    "# Importamos random para poder elegir una palabra aleatoria\n",
    "import random \n",
    "\n",
    "#Definimos en un diccionario 10 pares de keys-values, relacionando paises y capitales\n",
    "dict_europa = {\"España\" : \"madrid\", \n",
    "               \"Francia\" : \"paris\", \n",
    "               \"Alemania\" : \"berlin\", \n",
    "               \"Italia\": \"roma\",\n",
    "               \"Noruega\" : \"oslo\", \n",
    "               \"Polonia\" : \"varsovia\", \n",
    "               \"Hungria\" : \"budapest\", \n",
    "               \"Irlanda\":\"dublin\", \n",
    "               \"Austria\": \"viena\", \n",
    "               \"Republica Checa\" : \"praga\"}\n",
    "\n",
    "\n",
    "# Definimos las variables de punto de partida.\n",
    "puntos = 0\n",
    "vidas = 3\n",
    "\n",
    "# Creamos un bucle con los límites para continuar el juego \n",
    "while puntos < 5 and vidas > 0:  # while sigue funcionando mientras haya menos de 5 puntos y queden vidas\n",
    "\n",
    "# Pasamos a listas separadas las keys y las values de nuestro diccionario.\n",
    "    pais = list(dict_europa.keys())     \n",
    "    capital = list(dict_europa.values())\n",
    "   \n",
    "    # Creamos una variable con la elección aleatoria de un país\n",
    "    pregunta = random.choice(pais)\n",
    "\n",
    "    # Lanzamos la pregunta al usuario y la almacenamos en una variable\n",
    "    respuesta_usuario = input(f\"Cual es la capital de {pregunta}?\").lower()   # Programamos defensivamente y convertimos a minúscula por si acaso\n",
    "   \n",
    "    # Informamos al usuario de su respuesta\n",
    "    print(f\"Has respondido: {respuesta_usuario}\")\n",
    "\n",
    "    # Obtenemos la respuesta correcta \n",
    "    respuesta_correcta = dict_europa.get(pregunta)\n",
    " \n",
    "    # Mostramos la respuesta correcta al usuario\n",
    "    print(f\"La respuesta correcta es {respuesta_correcta.title()}\") # Convertimos la primera letra en mayúscula por estética\n",
    "\n",
    "\n",
    "    # Definimos las reglas de funcionamiento de los puntos:\n",
    "    if respuesta_correcta == respuesta_usuario :    # Comparamos respuestas. Si acierta...\n",
    "        puntos += 1                                 # Sumamos un punto \n",
    "        dict_europa.pop(pregunta)                   # Eliminamos ese par key-value para que no se repita\n",
    "        print(f\"¡Muy bien! Lo has petado, sumas 1 punto, llevas {puntos} puntos\")   #Mostramos felicitación e informamos de la puntuación\n",
    "        \n",
    "        # print(dict_europe)  # Activaremos para comprobar que resta los paises que ya han salido\n",
    "        \n",
    "    else:                                           # Si no acierta...\n",
    "        vidas -= 1                                  # Restamos una vida\n",
    "        print(f\"Respuesta incorrecta, pierdes una vida, te quedan {vidas} vidas\")   # Mostramos informe del fallo y la puntuación\n",
    "       \n",
    "# Cuando dejan de cumplirse los límites del juego...\n",
    "else: \n",
    "    if vidas == 0:                      # Si las vidas han llegado a 0 se muestra un Game Over\n",
    "        print(\"Te has quedado sin vidas, ¡hasta luego Lucas!\")  \n",
    "    else:                               # Si el juego termina porque conseguiste 5 puntos (definido en el while)\n",
    "        print(\"¡Enhorabuena, eres una máquina!\")     # se muestra una felicitación\n",
    "\n",
    "\n",
    "\n",
    "  \n",
    "  \n",
    "\n",
    "\n"
   ]
  }
 ],
 "metadata": {
  "kernelspec": {
   "display_name": "base",
   "language": "python",
   "name": "python3"
  },
  "language_info": {
   "codemirror_mode": {
    "name": "ipython",
    "version": 3
   },
   "file_extension": ".py",
   "mimetype": "text/x-python",
   "name": "python",
   "nbconvert_exporter": "python",
   "pygments_lexer": "ipython3",
   "version": "3.11.5"
  },
  "orig_nbformat": 4
 },
 "nbformat": 4,
 "nbformat_minor": 2
}
