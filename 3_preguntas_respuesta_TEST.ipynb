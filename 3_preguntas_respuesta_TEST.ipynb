{
 "cells": [
  {
   "cell_type": "code",
   "execution_count": 2,
   "metadata": {},
   "outputs": [
    {
     "name": "stdout",
     "output_type": "stream",
     "text": [
      "muy bien lo has petado, has sumado un punto, llevas 1 puntos\n",
      "{'españa': 'madrid', 'francia': 'paris', 'alemania': 'berlin', ' noruega': 'oslo', 'polonia': 'varsovia', 'hungria': 'budapest', 'irlanda': 'dublin', 'austria': 'viena', 'republica checa': 'praga'}\n",
      "muy bien lo has petado, has sumado un punto, llevas 2 puntos\n",
      "{'españa': 'madrid', 'francia': 'paris', 'alemania': 'berlin', ' noruega': 'oslo', 'polonia': 'varsovia', 'irlanda': 'dublin', 'austria': 'viena', 'republica checa': 'praga'}\n",
      "muy bien lo has petado, has sumado un punto, llevas 3 puntos\n",
      "{'francia': 'paris', 'alemania': 'berlin', ' noruega': 'oslo', 'polonia': 'varsovia', 'irlanda': 'dublin', 'austria': 'viena', 'republica checa': 'praga'}\n",
      "muy bien lo has petado, has sumado un punto, llevas 4 puntos\n",
      "{'francia': 'paris', ' noruega': 'oslo', 'polonia': 'varsovia', 'irlanda': 'dublin', 'austria': 'viena', 'republica checa': 'praga'}\n",
      "muy bien lo has petado, has sumado un punto, llevas 5 puntos\n",
      "{'francia': 'paris', ' noruega': 'oslo', 'irlanda': 'dublin', 'austria': 'viena', 'republica checa': 'praga'}\n",
      "eres una máquina\n"
     ]
    }
   ],
   "source": [
    "\n",
    "# variable punto = 0 (aqui se va sumando, hasta 5)\n",
    "# variable de vida = 3 (aqui se va restando hasta 0)\n",
    "\n",
    "import random \n",
    "dict_europe = {\"españa\" : \"madrid\", \"francia\" : \"paris\", \"alemania\" : \"berlin\", \"italia\": \"roma\",\" noruega\" : \"oslo\", \n",
    "               \"polonia\" : \"varsovia\", \"hungria\" : \"budapest\", \"irlanda\":\"dublin\", \"austria\": \"viena\", \"republica checa\" : \"praga\"}\n",
    "\n",
    "\n",
    "#BUSCAMOS EL VALOR DE CADA PAÍS EN FUNCIÓN DE LO QUE HA SALIDO EN EL ENUNCIADO \n",
    "\n",
    "\n",
    "#INICIALIZO LAS VARIABLES DE JUEGO \n",
    "var_puntos = 0\n",
    "var_vidas = 3\n",
    "\n",
    "# limite de while es: \n",
    "\n",
    "while var_puntos < 5 and var_vidas > 0: \n",
    "\n",
    "    \n",
    "    pais = list(dict_europe.keys())\n",
    "    capital = list(dict_europe.values())\n",
    "    capital_enunciado = random.choice(pais)\n",
    "    respuesta_usuario = input(f\"Cual es la capital de {capital_enunciado}:?\").lower()\n",
    "    respuesta_correcta = dict_europe.get(capital_enunciado)\n",
    "\n",
    "    if respuesta_correcta == respuesta_usuario:\n",
    "        var_puntos += 1\n",
    "        dict_europe.pop(capital_enunciado)\n",
    "        print(f\"muy bien lo has petado, has sumado un punto, llevas {var_puntos} puntos\")\n",
    "        print(dict_europe)\n",
    "        \n",
    "    else: \n",
    "        var_vidas -= 1 \n",
    "        print(f\"respuesta incorrecta, pierdes una vida, te quedan {var_vidas} vidas\")\n",
    "       \n",
    "else: \n",
    "    if var_vidas == 0:\n",
    "        print(\"hasta luego lucas\")  \n",
    "    else:\n",
    "        print(\"eres una máquina\")\n",
    "\n",
    "\n",
    "\n",
    "  \n",
    "  \n",
    "\n",
    "\n"
   ]
  }
 ],
 "metadata": {
  "kernelspec": {
   "display_name": "base",
   "language": "python",
   "name": "python3"
  },
  "language_info": {
   "codemirror_mode": {
    "name": "ipython",
    "version": 3
   },
   "file_extension": ".py",
   "mimetype": "text/x-python",
   "name": "python",
   "nbconvert_exporter": "python",
   "pygments_lexer": "ipython3",
   "version": "3.11.5"
  },
  "orig_nbformat": 4
 },
 "nbformat": 4,
 "nbformat_minor": 2
}
