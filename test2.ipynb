{
 "cells": [
  {
   "cell_type": "code",
   "execution_count": null,
   "metadata": {},
   "outputs": [],
   "source": [
    "import time\n",
    "import random\n",
    "name = input(\"What is your name? \")\n",
    "print (\"Hello, \" + name, \"Time to play hangman!\")\n",
    "time.sleep(1)\n",
    "print (\"Start guessing...\\n\")\n",
    "time.sleep(0.5)\n",
    "## A List Of Secret Words\n",
    "words = ['python','programming','treasure','creative','medium','horror']\n",
    "word = random.choice(words)\n",
    "guesses = ''\n",
    "turns = 5\n",
    "while turns > 0:         \n",
    "    failed = 0             \n",
    "    for char in word:      \n",
    "        if char in guesses:    \n",
    "            print (char,end=\"\")    \n",
    "        else:\n",
    "            print (\"_\",end=\"\"),     \n",
    "            failed += 1    \n",
    "    if failed == 0:        \n",
    "        print (\"\\nYou won\") \n",
    "        break              \n",
    "    guess = input(\"\\nguess a character:\") \n",
    "    guesses += guess                    \n",
    "    if guess not in word:  \n",
    "        turns -= 1        \n",
    "        print(\"\\nWrong\")    \n",
    "        print(\"\\nYou have\", + turns, 'more guesses') \n",
    "        if turns == 0:           \n",
    "            print (\"\\nYou Lose\") "
   ]
  }
 ],
 "metadata": {
  "kernelspec": {
   "display_name": "base",
   "language": "python",
   "name": "python3"
  },
  "language_info": {
   "codemirror_mode": {
    "name": "ipython",
    "version": 3
   },
   "file_extension": ".py",
   "mimetype": "text/x-python",
   "name": "python",
   "nbconvert_exporter": "python",
   "pygments_lexer": "ipython3",
   "version": "3.11.5"
  },
  "orig_nbformat": 4
 },
 "nbformat": 4,
 "nbformat_minor": 2
}
